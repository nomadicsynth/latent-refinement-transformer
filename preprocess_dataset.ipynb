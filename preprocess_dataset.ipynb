{
 "cells": [
  {
   "cell_type": "code",
   "execution_count": 1,
   "id": "684adc5b",
   "metadata": {},
   "outputs": [],
   "source": [
    "dataset_name = \"omarkamali/wikipedia-monthly\"\n",
    "tokenizer_name = \"mistralai/Mistral-7B-Instruct-v0.3\"\n",
    "model_config_name = tokenizer_name\n",
    "\n",
    "train_dataset_size = 1280000\n",
    "if train_dataset_size > 0:\n",
    "    eval_dataset_size = int(train_dataset_size * 0.1)\n",
    "else:\n",
    "    eval_dataset_size = 0.1"
   ]
  },
  {
   "cell_type": "code",
   "execution_count": 2,
   "id": "227bc567",
   "metadata": {},
   "outputs": [
    {
     "data": {
      "application/vnd.jupyter.widget-view+json": {
       "model_id": "1215213f64844f1c81c690dd8f59f086",
       "version_major": 2,
       "version_minor": 0
      },
      "text/plain": [
       "Resolving data files:   0%|          | 0/17 [00:00<?, ?it/s]"
      ]
     },
     "metadata": {},
     "output_type": "display_data"
    },
    {
     "data": {
      "application/vnd.jupyter.widget-view+json": {
       "model_id": "6b43b21d54e34af3b30a4eca2abf5862",
       "version_major": 2,
       "version_minor": 0
      },
      "text/plain": [
       "Loading dataset shards:   0%|          | 0/18 [00:00<?, ?it/s]"
      ]
     },
     "metadata": {},
     "output_type": "display_data"
    },
    {
     "data": {
      "text/plain": [
       "DatasetDict({\n",
       "    train: Dataset({\n",
       "        features: ['id', 'url', 'title', 'raw_mediawiki', 'text'],\n",
       "        num_rows: 1280000\n",
       "    })\n",
       "    test: Dataset({\n",
       "        features: ['id', 'url', 'title', 'raw_mediawiki', 'text'],\n",
       "        num_rows: 128000\n",
       "    })\n",
       "})"
      ]
     },
     "execution_count": 2,
     "metadata": {},
     "output_type": "execute_result"
    }
   ],
   "source": [
    "from datasets import load_dataset\n",
    "\n",
    "# Load the English Wikipedia dataset from the latest dump\n",
    "dataset = load_dataset(dataset_name, \"latest.en\", cache_dir=\"./cache\")\n",
    "\n",
    "# Split the dataset\n",
    "dataset = dataset[\"train\"].train_test_split(\n",
    "    test_size=eval_dataset_size,\n",
    "    shuffle=True,\n",
    "    seed=42,\n",
    ")\n",
    "\n",
    "# Subset the dataset\n",
    "if train_dataset_size > 0 and dataset[\"train\"].num_rows > train_dataset_size:\n",
    "    dataset[\"train\"] = dataset[\"train\"].select(range(train_dataset_size))\n",
    "dataset"
   ]
  },
  {
   "cell_type": "code",
   "execution_count": 3,
   "id": "26c4f84b",
   "metadata": {},
   "outputs": [],
   "source": [
    "from transformers import AutoTokenizer, MistralConfig, MistralForCausalLM\n",
    "\n",
    "tokenizer = AutoTokenizer.from_pretrained(tokenizer_name)\n",
    "tokenizer.pad_token = tokenizer.eos_token\n",
    "\n",
    "config = MistralConfig.from_pretrained(model_config_name)\n",
    "\n",
    "# Dummy model\n",
    "config.hidden_size = 16\n",
    "config.intermediate_size = 16\n",
    "config.num_hidden_layers = 1\n",
    "config.num_attention_heads = 2\n",
    "config.num_key_value_heads = 2\n",
    "config._attn_implementation = \"flash_attention_2\"\n",
    "\n",
    "model = MistralForCausalLM(config)"
   ]
  },
  {
   "cell_type": "code",
   "execution_count": 4,
   "id": "e18e8ff7",
   "metadata": {},
   "outputs": [
    {
     "data": {
      "application/vnd.jupyter.widget-view+json": {
       "model_id": "985865009fbe402b9ce8e2168388c943",
       "version_major": 2,
       "version_minor": 0
      },
      "text/plain": [
       "Adding EOS to train dataset (num_proc=4):   0%|          | 0/1280000 [00:00<?, ? examples/s]"
      ]
     },
     "metadata": {},
     "output_type": "display_data"
    },
    {
     "data": {
      "application/vnd.jupyter.widget-view+json": {
       "model_id": "be6318c56ef04aa2bff1a3c5e9eb8837",
       "version_major": 2,
       "version_minor": 0
      },
      "text/plain": [
       "Tokenizing train dataset (num_proc=4):   0%|          | 0/1280000 [00:00<?, ? examples/s]"
      ]
     },
     "metadata": {},
     "output_type": "display_data"
    },
    {
     "data": {
      "application/vnd.jupyter.widget-view+json": {
       "model_id": "5df11afd124243dc91e3e5889f3c2da2",
       "version_major": 2,
       "version_minor": 0
      },
      "text/plain": [
       "Packing train dataset (num_proc=4):   0%|          | 0/1280000 [00:00<?, ? examples/s]"
      ]
     },
     "metadata": {},
     "output_type": "display_data"
    },
    {
     "data": {
      "application/vnd.jupyter.widget-view+json": {
       "model_id": "26542138e3534cfeb56fcd1cda134776",
       "version_major": 2,
       "version_minor": 0
      },
      "text/plain": [
       "Adding EOS to eval dataset (num_proc=4):   0%|          | 0/128000 [00:00<?, ? examples/s]"
      ]
     },
     "metadata": {},
     "output_type": "display_data"
    },
    {
     "data": {
      "application/vnd.jupyter.widget-view+json": {
       "model_id": "2952a81a8c3240c7969fe317eef2f232",
       "version_major": 2,
       "version_minor": 0
      },
      "text/plain": [
       "Tokenizing eval dataset (num_proc=4):   0%|          | 0/128000 [00:00<?, ? examples/s]"
      ]
     },
     "metadata": {},
     "output_type": "display_data"
    },
    {
     "data": {
      "application/vnd.jupyter.widget-view+json": {
       "model_id": "1961a72730604422a3213b8621ae86f0",
       "version_major": 2,
       "version_minor": 0
      },
      "text/plain": [
       "Packing eval dataset (num_proc=4):   0%|          | 0/128000 [00:00<?, ? examples/s]"
      ]
     },
     "metadata": {},
     "output_type": "display_data"
    },
    {
     "data": {
      "application/vnd.jupyter.widget-view+json": {
       "model_id": "fceeaf1980f24981985e0b36925a87fd",
       "version_major": 2,
       "version_minor": 0
      },
      "text/plain": [
       "Saving the dataset (0/19 shards):   0%|          | 0/69668 [00:00<?, ? examples/s]"
      ]
     },
     "metadata": {},
     "output_type": "display_data"
    },
    {
     "data": {
      "application/vnd.jupyter.widget-view+json": {
       "model_id": "2b670933abee4f8c95e5bdab4c1b9420",
       "version_major": 2,
       "version_minor": 0
      },
      "text/plain": [
       "Saving the dataset (0/2 shards):   0%|          | 0/7001 [00:00<?, ? examples/s]"
      ]
     },
     "metadata": {},
     "output_type": "display_data"
    },
    {
     "name": "stdout",
     "output_type": "stream",
     "text": [
      "Preprocessed dataset saved to preprocessed_dataset_69668_7001\n"
     ]
    }
   ],
   "source": [
    "from trl import SFTTrainer, SFTConfig\n",
    "\n",
    "training_args = SFTConfig(\n",
    "    packing=True,\n",
    "    max_length=32768,\n",
    "    report_to=\"none\",\n",
    "    dataset_num_proc=4,\n",
    "    eos_token=tokenizer.eos_token,\n",
    "    pad_token=tokenizer.pad_token,\n",
    "    dataset_kwargs={\n",
    "        \"save_preprocessed_dataset\": True,\n",
    "    },\n",
    ")\n",
    "\n",
    "trainer = SFTTrainer(\n",
    "    model=model,\n",
    "    args=training_args,\n",
    "    train_dataset=dataset[\"train\"],\n",
    "    eval_dataset=dataset[\"test\"],\n",
    "    processing_class=tokenizer,\n",
    ")"
   ]
  },
  {
   "cell_type": "code",
   "execution_count": 5,
   "id": "f017a74e",
   "metadata": {},
   "outputs": [
    {
     "data": {
      "application/vnd.jupyter.widget-view+json": {
       "model_id": "881fbdeae89c4de3b45be6be662f6233",
       "version_major": 2,
       "version_minor": 0
      },
      "text/plain": [
       "Loading dataset from disk:   0%|          | 0/19 [00:00<?, ?it/s]"
      ]
     },
     "metadata": {},
     "output_type": "display_data"
    },
    {
     "data": {
      "text/plain": [
       "DatasetDict({\n",
       "    train: Dataset({\n",
       "        features: ['input_ids', 'seq_lengths'],\n",
       "        num_rows: 69668\n",
       "    })\n",
       "    test: Dataset({\n",
       "        features: ['input_ids', 'seq_lengths'],\n",
       "        num_rows: 7001\n",
       "    })\n",
       "})"
      ]
     },
     "execution_count": 5,
     "metadata": {},
     "output_type": "execute_result"
    }
   ],
   "source": [
    "from datasets import load_from_disk\n",
    "\n",
    "dataset_name = \"./preprocessed_dataset_69668_7001\"\n",
    "dataset = load_from_disk(dataset_name)\n",
    "dataset"
   ]
  }
 ],
 "metadata": {
  "kernelspec": {
   "display_name": ".venv",
   "language": "python",
   "name": "python3"
  },
  "language_info": {
   "codemirror_mode": {
    "name": "ipython",
    "version": 3
   },
   "file_extension": ".py",
   "mimetype": "text/x-python",
   "name": "python",
   "nbconvert_exporter": "python",
   "pygments_lexer": "ipython3",
   "version": "3.11.2"
  }
 },
 "nbformat": 4,
 "nbformat_minor": 5
}
